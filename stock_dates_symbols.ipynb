{
 "cells": [
  {
   "cell_type": "code",
   "execution_count": 1,
   "metadata": {
    "collapsed": true
   },
   "outputs": [],
   "source": [
    "import pandas as pd"
   ]
  },
  {
   "cell_type": "markdown",
   "metadata": {},
   "source": [
    "## Getting our data together"
   ]
  },
  {
   "cell_type": "code",
   "execution_count": 2,
   "metadata": {
    "collapsed": true
   },
   "outputs": [],
   "source": [
    "df1_dict = {'AAPL': {'2011-01-13': 0,\n",
    "  '2011-01-14': 0,\n",
    "  '2011-01-18': 0,\n",
    "  '2011-01-19': 0,\n",
    "  '2011-01-20': 0},\n",
    " 'GOOG': {'2011-01-13': 0,\n",
    "  '2011-01-14': 0,\n",
    "  '2011-01-18': 0,\n",
    "  '2011-01-19': 0,\n",
    "  '2011-01-20': 0},\n",
    " 'IBM': {'2011-01-13': 0,\n",
    "  '2011-01-14': 0,\n",
    "  '2011-01-18': 0,\n",
    "  '2011-01-19': 0,\n",
    "  '2011-01-20': 0},\n",
    " 'XOM': {'2011-01-13': 0,\n",
    "  '2011-01-14': 0,\n",
    "  '2011-01-18': 0,\n",
    "  '2011-01-19': 0,\n",
    "  '2011-01-20': 0},\n",
    " '_CASH': {'2011-01-13': 0,\n",
    "  '2011-01-14': 0,\n",
    "  '2011-01-18': 0,\n",
    "  '2011-01-19': 0,\n",
    "  '2011-01-20': 0}}"
   ]
  },
  {
   "cell_type": "code",
   "execution_count": 3,
   "metadata": {
    "collapsed": false
   },
   "outputs": [
    {
     "data": {
      "text/html": [
       "<div>\n",
       "<table border=\"1\" class=\"dataframe\">\n",
       "  <thead>\n",
       "    <tr style=\"text-align: right;\">\n",
       "      <th></th>\n",
       "      <th>AAPL</th>\n",
       "      <th>GOOG</th>\n",
       "      <th>IBM</th>\n",
       "      <th>XOM</th>\n",
       "      <th>_CASH</th>\n",
       "    </tr>\n",
       "  </thead>\n",
       "  <tbody>\n",
       "    <tr>\n",
       "      <th>2011-01-13</th>\n",
       "      <td>0</td>\n",
       "      <td>0</td>\n",
       "      <td>0</td>\n",
       "      <td>0</td>\n",
       "      <td>0</td>\n",
       "    </tr>\n",
       "    <tr>\n",
       "      <th>2011-01-14</th>\n",
       "      <td>0</td>\n",
       "      <td>0</td>\n",
       "      <td>0</td>\n",
       "      <td>0</td>\n",
       "      <td>0</td>\n",
       "    </tr>\n",
       "    <tr>\n",
       "      <th>2011-01-18</th>\n",
       "      <td>0</td>\n",
       "      <td>0</td>\n",
       "      <td>0</td>\n",
       "      <td>0</td>\n",
       "      <td>0</td>\n",
       "    </tr>\n",
       "    <tr>\n",
       "      <th>2011-01-19</th>\n",
       "      <td>0</td>\n",
       "      <td>0</td>\n",
       "      <td>0</td>\n",
       "      <td>0</td>\n",
       "      <td>0</td>\n",
       "    </tr>\n",
       "    <tr>\n",
       "      <th>2011-01-20</th>\n",
       "      <td>0</td>\n",
       "      <td>0</td>\n",
       "      <td>0</td>\n",
       "      <td>0</td>\n",
       "      <td>0</td>\n",
       "    </tr>\n",
       "  </tbody>\n",
       "</table>\n",
       "</div>"
      ],
      "text/plain": [
       "            AAPL  GOOG  IBM  XOM  _CASH\n",
       "2011-01-13     0     0    0    0      0\n",
       "2011-01-14     0     0    0    0      0\n",
       "2011-01-18     0     0    0    0      0\n",
       "2011-01-19     0     0    0    0      0\n",
       "2011-01-20     0     0    0    0      0"
      ]
     },
     "execution_count": 3,
     "metadata": {},
     "output_type": "execute_result"
    }
   ],
   "source": [
    "df1 = pd.DataFrame(df1_dict)\n",
    "df1"
   ]
  },
  {
   "cell_type": "code",
   "execution_count": 4,
   "metadata": {
    "collapsed": true
   },
   "outputs": [],
   "source": [
    "df2_dict = {'day': {0: 13,\n",
    "  1: 13,\n",
    "  2: 26,\n",
    "  3: 2,\n",
    "  4: 10,\n",
    "  5: 3,\n",
    "  6: 3,\n",
    "  7: 3,\n",
    "  8: 3,\n",
    "  9: 10,\n",
    "  10: 1,\n",
    "  11: 1,\n",
    "  12: 20},\n",
    " 'month': {0: 1,\n",
    "  1: 1,\n",
    "  2: 1,\n",
    "  3: 2,\n",
    "  4: 2,\n",
    "  5: 3,\n",
    "  6: 3,\n",
    "  7: 6,\n",
    "  8: 5,\n",
    "  9: 6,\n",
    "  10: 8,\n",
    "  11: 8,\n",
    "  12: 12},\n",
    " 'order_type': {0: 'Sell',\n",
    "  1: 'Buy',\n",
    "  2: 'Buy',\n",
    "  3: 'Sell',\n",
    "  4: 'Buy',\n",
    "  5: 'Sell',\n",
    "  6: 'Sell',\n",
    "  7: 'Sell',\n",
    "  8: 'Buy',\n",
    "  9: 'Buy',\n",
    "  10: 'Buy',\n",
    "  11: 'Sell',\n",
    "  12: 'Sell'},\n",
    " 'shares': {0: 1500,\n",
    "  1: 4000,\n",
    "  2: 1000,\n",
    "  3: 4000,\n",
    "  4: 4000,\n",
    "  5: 1000,\n",
    "  6: 2200,\n",
    "  7: 3300,\n",
    "  8: 1500,\n",
    "  9: 1200,\n",
    "  10: 55,\n",
    "  11: 55,\n",
    "  12: 1200},\n",
    " 'symbol': {0: 'AAPL',\n",
    "  1: 'IBM',\n",
    "  2: 'GOOG',\n",
    "  3: 'XOM',\n",
    "  4: 'XOM',\n",
    "  5: 'GOOG',\n",
    "  6: 'IBM',\n",
    "  7: 'IBM',\n",
    "  8: 'IBM',\n",
    "  9: 'AAPL',\n",
    "  10: 'GOOG',\n",
    "  11: 'GOOG',\n",
    "  12: 'AAPL'},\n",
    " 'trans_date': {0: '2011-01-13',\n",
    "  1: '2011-01-13',\n",
    "  2: '2011-01-26',\n",
    "  3: '2011-02-02',\n",
    "  4: '2011-02-10',\n",
    "  5: '2011-03-03',\n",
    "  6: '2011-03-03',\n",
    "  7: '2011-06-03',\n",
    "  8: '2011-05-03',\n",
    "  9: '2011-06-10',\n",
    "  10: '2011-08-01',\n",
    "  11: '2011-08-01',\n",
    "  12: '2011-12-20'},\n",
    " 'year': {0: 2011,\n",
    "  1: 2011,\n",
    "  2: 2011,\n",
    "  3: 2011,\n",
    "  4: 2011,\n",
    "  5: 2011,\n",
    "  6: 2011,\n",
    "  7: 2011,\n",
    "  8: 2011,\n",
    "  9: 2011,\n",
    "  10: 2011,\n",
    "  11: 2011,\n",
    "  12: 2011}}"
   ]
  },
  {
   "cell_type": "markdown",
   "metadata": {},
   "source": [
    "## I'm still a little unclear on the index of df2, but i think the steps outlined here make them irrelevant"
   ]
  },
  {
   "cell_type": "code",
   "execution_count": 5,
   "metadata": {
    "collapsed": false
   },
   "outputs": [
    {
     "data": {
      "text/html": [
       "<div>\n",
       "<table border=\"1\" class=\"dataframe\">\n",
       "  <thead>\n",
       "    <tr style=\"text-align: right;\">\n",
       "      <th></th>\n",
       "      <th>day</th>\n",
       "      <th>month</th>\n",
       "      <th>order_type</th>\n",
       "      <th>shares</th>\n",
       "      <th>symbol</th>\n",
       "      <th>trans_date</th>\n",
       "      <th>year</th>\n",
       "    </tr>\n",
       "  </thead>\n",
       "  <tbody>\n",
       "    <tr>\n",
       "      <th>0</th>\n",
       "      <td>13</td>\n",
       "      <td>1</td>\n",
       "      <td>Sell</td>\n",
       "      <td>1500</td>\n",
       "      <td>AAPL</td>\n",
       "      <td>2011-01-13</td>\n",
       "      <td>2011</td>\n",
       "    </tr>\n",
       "    <tr>\n",
       "      <th>1</th>\n",
       "      <td>13</td>\n",
       "      <td>1</td>\n",
       "      <td>Buy</td>\n",
       "      <td>4000</td>\n",
       "      <td>IBM</td>\n",
       "      <td>2011-01-13</td>\n",
       "      <td>2011</td>\n",
       "    </tr>\n",
       "    <tr>\n",
       "      <th>2</th>\n",
       "      <td>26</td>\n",
       "      <td>1</td>\n",
       "      <td>Buy</td>\n",
       "      <td>1000</td>\n",
       "      <td>GOOG</td>\n",
       "      <td>2011-01-26</td>\n",
       "      <td>2011</td>\n",
       "    </tr>\n",
       "    <tr>\n",
       "      <th>3</th>\n",
       "      <td>2</td>\n",
       "      <td>2</td>\n",
       "      <td>Sell</td>\n",
       "      <td>4000</td>\n",
       "      <td>XOM</td>\n",
       "      <td>2011-02-02</td>\n",
       "      <td>2011</td>\n",
       "    </tr>\n",
       "    <tr>\n",
       "      <th>4</th>\n",
       "      <td>10</td>\n",
       "      <td>2</td>\n",
       "      <td>Buy</td>\n",
       "      <td>4000</td>\n",
       "      <td>XOM</td>\n",
       "      <td>2011-02-10</td>\n",
       "      <td>2011</td>\n",
       "    </tr>\n",
       "    <tr>\n",
       "      <th>5</th>\n",
       "      <td>3</td>\n",
       "      <td>3</td>\n",
       "      <td>Sell</td>\n",
       "      <td>1000</td>\n",
       "      <td>GOOG</td>\n",
       "      <td>2011-03-03</td>\n",
       "      <td>2011</td>\n",
       "    </tr>\n",
       "    <tr>\n",
       "      <th>6</th>\n",
       "      <td>3</td>\n",
       "      <td>3</td>\n",
       "      <td>Sell</td>\n",
       "      <td>2200</td>\n",
       "      <td>IBM</td>\n",
       "      <td>2011-03-03</td>\n",
       "      <td>2011</td>\n",
       "    </tr>\n",
       "    <tr>\n",
       "      <th>7</th>\n",
       "      <td>3</td>\n",
       "      <td>6</td>\n",
       "      <td>Sell</td>\n",
       "      <td>3300</td>\n",
       "      <td>IBM</td>\n",
       "      <td>2011-06-03</td>\n",
       "      <td>2011</td>\n",
       "    </tr>\n",
       "    <tr>\n",
       "      <th>8</th>\n",
       "      <td>3</td>\n",
       "      <td>5</td>\n",
       "      <td>Buy</td>\n",
       "      <td>1500</td>\n",
       "      <td>IBM</td>\n",
       "      <td>2011-05-03</td>\n",
       "      <td>2011</td>\n",
       "    </tr>\n",
       "    <tr>\n",
       "      <th>9</th>\n",
       "      <td>10</td>\n",
       "      <td>6</td>\n",
       "      <td>Buy</td>\n",
       "      <td>1200</td>\n",
       "      <td>AAPL</td>\n",
       "      <td>2011-06-10</td>\n",
       "      <td>2011</td>\n",
       "    </tr>\n",
       "    <tr>\n",
       "      <th>10</th>\n",
       "      <td>1</td>\n",
       "      <td>8</td>\n",
       "      <td>Buy</td>\n",
       "      <td>55</td>\n",
       "      <td>GOOG</td>\n",
       "      <td>2011-08-01</td>\n",
       "      <td>2011</td>\n",
       "    </tr>\n",
       "    <tr>\n",
       "      <th>11</th>\n",
       "      <td>1</td>\n",
       "      <td>8</td>\n",
       "      <td>Sell</td>\n",
       "      <td>55</td>\n",
       "      <td>GOOG</td>\n",
       "      <td>2011-08-01</td>\n",
       "      <td>2011</td>\n",
       "    </tr>\n",
       "    <tr>\n",
       "      <th>12</th>\n",
       "      <td>20</td>\n",
       "      <td>12</td>\n",
       "      <td>Sell</td>\n",
       "      <td>1200</td>\n",
       "      <td>AAPL</td>\n",
       "      <td>2011-12-20</td>\n",
       "      <td>2011</td>\n",
       "    </tr>\n",
       "  </tbody>\n",
       "</table>\n",
       "</div>"
      ],
      "text/plain": [
       "    day  month order_type  shares symbol  trans_date  year\n",
       "0    13      1       Sell    1500   AAPL  2011-01-13  2011\n",
       "1    13      1        Buy    4000    IBM  2011-01-13  2011\n",
       "2    26      1        Buy    1000   GOOG  2011-01-26  2011\n",
       "3     2      2       Sell    4000    XOM  2011-02-02  2011\n",
       "4    10      2        Buy    4000    XOM  2011-02-10  2011\n",
       "5     3      3       Sell    1000   GOOG  2011-03-03  2011\n",
       "6     3      3       Sell    2200    IBM  2011-03-03  2011\n",
       "7     3      6       Sell    3300    IBM  2011-06-03  2011\n",
       "8     3      5        Buy    1500    IBM  2011-05-03  2011\n",
       "9    10      6        Buy    1200   AAPL  2011-06-10  2011\n",
       "10    1      8        Buy      55   GOOG  2011-08-01  2011\n",
       "11    1      8       Sell      55   GOOG  2011-08-01  2011\n",
       "12   20     12       Sell    1200   AAPL  2011-12-20  2011"
      ]
     },
     "execution_count": 5,
     "metadata": {},
     "output_type": "execute_result"
    }
   ],
   "source": [
    "df2 = pd.DataFrame(df2_dict)\n",
    "df2"
   ]
  },
  {
   "cell_type": "markdown",
   "metadata": {},
   "source": [
    "## Utilizing stack()\n",
    "## The result is a multi indexed Pandas Series"
   ]
  },
  {
   "cell_type": "code",
   "execution_count": 6,
   "metadata": {
    "collapsed": false
   },
   "outputs": [
    {
     "data": {
      "text/plain": [
       "2011-01-13  AAPL     0\n",
       "            GOOG     0\n",
       "            IBM      0\n",
       "            XOM      0\n",
       "            _CASH    0\n",
       "2011-01-14  AAPL     0\n",
       "            GOOG     0\n",
       "            IBM      0\n",
       "            XOM      0\n",
       "            _CASH    0\n",
       "2011-01-18  AAPL     0\n",
       "            GOOG     0\n",
       "            IBM      0\n",
       "            XOM      0\n",
       "            _CASH    0\n",
       "2011-01-19  AAPL     0\n",
       "            GOOG     0\n",
       "            IBM      0\n",
       "            XOM      0\n",
       "            _CASH    0\n",
       "2011-01-20  AAPL     0\n",
       "            GOOG     0\n",
       "            IBM      0\n",
       "            XOM      0\n",
       "            _CASH    0\n",
       "dtype: int64"
      ]
     },
     "execution_count": 6,
     "metadata": {},
     "output_type": "execute_result"
    }
   ],
   "source": [
    "df1_stacked = df1.stack()\n",
    "df1_stacked"
   ]
  },
  {
   "cell_type": "markdown",
   "metadata": {},
   "source": [
    "## Making an assumption here on how you want to handle same-day Buys and Sells by making Sells negative"
   ]
  },
  {
   "cell_type": "code",
   "execution_count": 7,
   "metadata": {
    "collapsed": false
   },
   "outputs": [
    {
     "data": {
      "text/html": [
       "<div>\n",
       "<table border=\"1\" class=\"dataframe\">\n",
       "  <thead>\n",
       "    <tr style=\"text-align: right;\">\n",
       "      <th></th>\n",
       "      <th>day</th>\n",
       "      <th>month</th>\n",
       "      <th>order_type</th>\n",
       "      <th>shares</th>\n",
       "      <th>symbol</th>\n",
       "      <th>trans_date</th>\n",
       "      <th>year</th>\n",
       "    </tr>\n",
       "  </thead>\n",
       "  <tbody>\n",
       "    <tr>\n",
       "      <th>0</th>\n",
       "      <td>13</td>\n",
       "      <td>1</td>\n",
       "      <td>Sell</td>\n",
       "      <td>-1500</td>\n",
       "      <td>AAPL</td>\n",
       "      <td>2011-01-13</td>\n",
       "      <td>2011</td>\n",
       "    </tr>\n",
       "    <tr>\n",
       "      <th>1</th>\n",
       "      <td>13</td>\n",
       "      <td>1</td>\n",
       "      <td>Buy</td>\n",
       "      <td>4000</td>\n",
       "      <td>IBM</td>\n",
       "      <td>2011-01-13</td>\n",
       "      <td>2011</td>\n",
       "    </tr>\n",
       "    <tr>\n",
       "      <th>2</th>\n",
       "      <td>26</td>\n",
       "      <td>1</td>\n",
       "      <td>Buy</td>\n",
       "      <td>1000</td>\n",
       "      <td>GOOG</td>\n",
       "      <td>2011-01-26</td>\n",
       "      <td>2011</td>\n",
       "    </tr>\n",
       "    <tr>\n",
       "      <th>3</th>\n",
       "      <td>2</td>\n",
       "      <td>2</td>\n",
       "      <td>Sell</td>\n",
       "      <td>-4000</td>\n",
       "      <td>XOM</td>\n",
       "      <td>2011-02-02</td>\n",
       "      <td>2011</td>\n",
       "    </tr>\n",
       "    <tr>\n",
       "      <th>4</th>\n",
       "      <td>10</td>\n",
       "      <td>2</td>\n",
       "      <td>Buy</td>\n",
       "      <td>4000</td>\n",
       "      <td>XOM</td>\n",
       "      <td>2011-02-10</td>\n",
       "      <td>2011</td>\n",
       "    </tr>\n",
       "  </tbody>\n",
       "</table>\n",
       "</div>"
      ],
      "text/plain": [
       "   day  month order_type  shares symbol  trans_date  year\n",
       "0   13      1       Sell   -1500   AAPL  2011-01-13  2011\n",
       "1   13      1        Buy    4000    IBM  2011-01-13  2011\n",
       "2   26      1        Buy    1000   GOOG  2011-01-26  2011\n",
       "3    2      2       Sell   -4000    XOM  2011-02-02  2011\n",
       "4   10      2        Buy    4000    XOM  2011-02-10  2011"
      ]
     },
     "execution_count": 7,
     "metadata": {},
     "output_type": "execute_result"
    }
   ],
   "source": [
    "filter = df2['order_type'] == 'Sell'\n",
    "df2.loc[filter,'shares'] = df2['shares'] * -1\n",
    "df2.head()"
   ]
  },
  {
   "cell_type": "markdown",
   "metadata": {},
   "source": [
    "## Using groupby() here on trans_date and symbol to get one value for each date and symbol combo\n",
    "\n",
    "## The result is another multi indexed Series"
   ]
  },
  {
   "cell_type": "code",
   "execution_count": 8,
   "metadata": {
    "collapsed": false
   },
   "outputs": [
    {
     "data": {
      "text/plain": [
       "trans_date  symbol\n",
       "2011-01-13  AAPL     -1500\n",
       "            IBM       4000\n",
       "2011-01-26  GOOG      1000\n",
       "2011-02-02  XOM      -4000\n",
       "2011-02-10  XOM       4000\n",
       "2011-03-03  GOOG     -1000\n",
       "            IBM      -2200\n",
       "2011-05-03  IBM       1500\n",
       "2011-06-03  IBM      -3300\n",
       "2011-06-10  AAPL      1200\n",
       "2011-08-01  GOOG         0\n",
       "2011-12-20  AAPL     -1200\n",
       "Name: shares, dtype: int64"
      ]
     },
     "execution_count": 8,
     "metadata": {},
     "output_type": "execute_result"
    }
   ],
   "source": [
    "df2_grouped = df2.groupby(['trans_date', 'symbol'])['shares'].sum()\n",
    "df2_grouped"
   ]
  },
  {
   "cell_type": "markdown",
   "metadata": {},
   "source": [
    "##  We update our values in df1_stacked series with the values from df2_grouped\n",
    "##  update() makes it easy since the indexes are the same between the two Series"
   ]
  },
  {
   "cell_type": "code",
   "execution_count": 9,
   "metadata": {
    "collapsed": false
   },
   "outputs": [
    {
     "data": {
      "text/plain": [
       "2011-01-13  AAPL    -1500\n",
       "            GOOG        0\n",
       "            IBM      4000\n",
       "            XOM         0\n",
       "            _CASH       0\n",
       "2011-01-14  AAPL        0\n",
       "            GOOG        0\n",
       "            IBM         0\n",
       "            XOM         0\n",
       "            _CASH       0\n",
       "2011-01-18  AAPL        0\n",
       "            GOOG        0\n",
       "            IBM         0\n",
       "            XOM         0\n",
       "            _CASH       0\n",
       "2011-01-19  AAPL        0\n",
       "            GOOG        0\n",
       "            IBM         0\n",
       "            XOM         0\n",
       "            _CASH       0\n",
       "2011-01-20  AAPL        0\n",
       "            GOOG        0\n",
       "            IBM         0\n",
       "            XOM         0\n",
       "            _CASH       0\n",
       "dtype: int64"
      ]
     },
     "execution_count": 9,
     "metadata": {},
     "output_type": "execute_result"
    }
   ],
   "source": [
    "df1_stacked.update(df2_grouped)\n",
    "df1_stacked\n"
   ]
  },
  {
   "cell_type": "markdown",
   "metadata": {},
   "source": [
    "## And finally, we bring it back to the original df1 format with unstack()"
   ]
  },
  {
   "cell_type": "code",
   "execution_count": 10,
   "metadata": {
    "collapsed": false
   },
   "outputs": [
    {
     "data": {
      "text/html": [
       "<div>\n",
       "<table border=\"1\" class=\"dataframe\">\n",
       "  <thead>\n",
       "    <tr style=\"text-align: right;\">\n",
       "      <th></th>\n",
       "      <th>AAPL</th>\n",
       "      <th>GOOG</th>\n",
       "      <th>IBM</th>\n",
       "      <th>XOM</th>\n",
       "      <th>_CASH</th>\n",
       "    </tr>\n",
       "  </thead>\n",
       "  <tbody>\n",
       "    <tr>\n",
       "      <th>2011-01-13</th>\n",
       "      <td>-1500</td>\n",
       "      <td>0</td>\n",
       "      <td>4000</td>\n",
       "      <td>0</td>\n",
       "      <td>0</td>\n",
       "    </tr>\n",
       "    <tr>\n",
       "      <th>2011-01-14</th>\n",
       "      <td>0</td>\n",
       "      <td>0</td>\n",
       "      <td>0</td>\n",
       "      <td>0</td>\n",
       "      <td>0</td>\n",
       "    </tr>\n",
       "    <tr>\n",
       "      <th>2011-01-18</th>\n",
       "      <td>0</td>\n",
       "      <td>0</td>\n",
       "      <td>0</td>\n",
       "      <td>0</td>\n",
       "      <td>0</td>\n",
       "    </tr>\n",
       "    <tr>\n",
       "      <th>2011-01-19</th>\n",
       "      <td>0</td>\n",
       "      <td>0</td>\n",
       "      <td>0</td>\n",
       "      <td>0</td>\n",
       "      <td>0</td>\n",
       "    </tr>\n",
       "    <tr>\n",
       "      <th>2011-01-20</th>\n",
       "      <td>0</td>\n",
       "      <td>0</td>\n",
       "      <td>0</td>\n",
       "      <td>0</td>\n",
       "      <td>0</td>\n",
       "    </tr>\n",
       "  </tbody>\n",
       "</table>\n",
       "</div>"
      ],
      "text/plain": [
       "            AAPL  GOOG   IBM  XOM  _CASH\n",
       "2011-01-13 -1500     0  4000    0      0\n",
       "2011-01-14     0     0     0    0      0\n",
       "2011-01-18     0     0     0    0      0\n",
       "2011-01-19     0     0     0    0      0\n",
       "2011-01-20     0     0     0    0      0"
      ]
     },
     "execution_count": 10,
     "metadata": {},
     "output_type": "execute_result"
    }
   ],
   "source": [
    "df1_stacked.unstack()"
   ]
  },
  {
   "cell_type": "code",
   "execution_count": null,
   "metadata": {
    "collapsed": true
   },
   "outputs": [],
   "source": []
  }
 ],
 "metadata": {
  "anaconda-cloud": {},
  "kernelspec": {
   "display_name": "Python [conda env:devData34]",
   "language": "python",
   "name": "conda-env-devData34-py"
  },
  "language_info": {
   "codemirror_mode": {
    "name": "ipython",
    "version": 3
   },
   "file_extension": ".py",
   "mimetype": "text/x-python",
   "name": "python",
   "nbconvert_exporter": "python",
   "pygments_lexer": "ipython3",
   "version": "3.4.5"
  }
 },
 "nbformat": 4,
 "nbformat_minor": 1
}
